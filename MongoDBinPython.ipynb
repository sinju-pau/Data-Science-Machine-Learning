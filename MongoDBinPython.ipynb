{
 "cells": [
  {
   "cell_type": "markdown",
   "metadata": {},
   "source": [
    "# Basic CRUD operations with MongoDB using Python\n",
    "\n",
    "MongoDB is an open source database that uses a document-oriented data model.It is one of several database types to arise in the mid-2000s under the NoSQL banner. Instead of using tables and rows as in relational databases, MongoDB is built on an architecture of collections and documents. Documents comprise sets of key-value pairs and are the basic unit of data in MongoDB. Collections contain sets of documents and function as the equivalent of relational database tables. \n",
    "\n",
    "Like other NoSQL databases, MongoDB supports dynamic schema design, allowing the documents in a collection to have different fields and structures. The database uses a document storage and data interchange format called BSON, which provides a binary representation of JSON-like documents. Automatic sharding enables data in a collection to be distributed across multiple systems for horizontal scalability as data volumes increase.\n",
    "\n",
    "PyMongo is a Python distribution containing tools for working with MongoDB, and is the recommended way to work with MongoDB from Python. To use pymongo, we need to install MongoDB first, and then run it. This notebook is an illustration of the basic Create, Read, Update and Delete operations in MongoDB using pymongo.\n",
    "\n",
    "The database is created using the Adult dataset from : https://archive.ics.uci.edu/ml/datasets/adult"
   ]
  },
  {
   "cell_type": "markdown",
   "metadata": {},
   "source": [
    "Lets begin by loading the libraries"
   ]
  },
  {
   "cell_type": "code",
   "execution_count": 1,
   "metadata": {
    "collapsed": true
   },
   "outputs": [],
   "source": [
    "import pymongo\n",
    "import pandas as pd"
   ]
  },
  {
   "cell_type": "markdown",
   "metadata": {},
   "source": [
    "pymongo is the driver used in Python to work with MongoDB"
   ]
  },
  {
   "cell_type": "markdown",
   "metadata": {},
   "source": [
    "## Creating Collections"
   ]
  },
  {
   "cell_type": "markdown",
   "metadata": {},
   "source": [
    "Create an object called client using MongoClient, database using is 'localhost', 27017 is the port number(in my system)that MongoDB is listening on."
   ]
  },
  {
   "cell_type": "code",
   "execution_count": 2,
   "metadata": {
    "collapsed": true
   },
   "outputs": [],
   "source": [
    "client = pymongo.MongoClient('localhost',27017)"
   ]
  },
  {
   "cell_type": "markdown",
   "metadata": {},
   "source": [
    "Create an object 'db' using client and ask it to connect to the database, 'mongo' here. If it does not exist, Mongo driver will create it."
   ]
  },
  {
   "cell_type": "code",
   "execution_count": 3,
   "metadata": {
    "collapsed": true
   },
   "outputs": [],
   "source": [
    "db = client['mongo']"
   ]
  },
  {
   "cell_type": "markdown",
   "metadata": {},
   "source": [
    "In Document databases as in MongoDB, we typically work with collections. So lets create a collection. \n",
    "\n",
    "Tell the driver that we want to connect to something called 'income'. If 'income' doesn't exist, it'll be created."
   ]
  },
  {
   "cell_type": "code",
   "execution_count": 4,
   "metadata": {
    "collapsed": true
   },
   "outputs": [],
   "source": [
    "collection = db['income']"
   ]
  },
  {
   "cell_type": "markdown",
   "metadata": {},
   "source": [
    "Data is saved in 'income.txt' file and headers in income_header.txt' file. Lets now open the income_header.txt file and save the column names"
   ]
  },
  {
   "cell_type": "code",
   "execution_count": 5,
   "metadata": {},
   "outputs": [
    {
     "data": {
      "text/plain": [
       "'age,workclass,fnlwgt,education,education-num,marital-status,occupation,relationship,race,sex,capital-gain,capital-loss,hours-per-week,native-country,label'"
      ]
     },
     "execution_count": 5,
     "metadata": {},
     "output_type": "execute_result"
    }
   ],
   "source": [
    "with open('income_header.txt') as finput:\n",
    "    column_names = finput.readline()\n",
    "column_names"
   ]
  },
  {
   "cell_type": "markdown",
   "metadata": {},
   "source": [
    "Now create a Python list of column names"
   ]
  },
  {
   "cell_type": "code",
   "execution_count": 6,
   "metadata": {},
   "outputs": [
    {
     "data": {
      "text/plain": [
       "['age',\n",
       " 'workclass',\n",
       " 'fnlwgt',\n",
       " 'education',\n",
       " 'education-num',\n",
       " 'marital-status',\n",
       " 'occupation',\n",
       " 'relationship',\n",
       " 'race',\n",
       " 'sex',\n",
       " 'capital-gain',\n",
       " 'capital-loss',\n",
       " 'hours-per-week',\n",
       " 'native-country',\n",
       " 'label']"
      ]
     },
     "execution_count": 6,
     "metadata": {},
     "output_type": "execute_result"
    }
   ],
   "source": [
    "column_names_list = column_names.split(',')\n",
    "column_names_list"
   ]
  },
  {
   "cell_type": "markdown",
   "metadata": {},
   "source": [
    "Now create a dictionary with column_names as 'keys' and observations from income.txt as 'values'.\n",
    "Also, lets insert rows line by line to obtain the collection of the dictionaries. Here, the data is converted into JSON (JavaScript Object Notation) format using the Python's dict( ). \n",
    "\n",
    "The character variable 'age' is also converted into integer. Other variables can be converted in a similar fashion (not done)."
   ]
  },
  {
   "cell_type": "code",
   "execution_count": 7,
   "metadata": {},
   "outputs": [],
   "source": [
    "with open('income.txt')as finput:\n",
    "    for line in finput:\n",
    "        row_list =line.rstrip('\\n').split(',')\n",
    "        row_dict = dict(zip(column_names_list,row_list))\n",
    "        try:\n",
    "            row_dict['age']= int(row_dict['age'])\n",
    "            collection.insert_one(row_dict)\n",
    "        except:\n",
    "            pass"
   ]
  },
  {
   "cell_type": "code",
   "execution_count": 8,
   "metadata": {},
   "outputs": [
    {
     "data": {
      "text/plain": [
       "32561"
      ]
     },
     "execution_count": 8,
     "metadata": {},
     "output_type": "execute_result"
    }
   ],
   "source": [
    "collection.count()"
   ]
  },
  {
   "cell_type": "markdown",
   "metadata": {},
   "source": [
    "Thus, a collection of 32,561 items is created. This forms our database for working with MongoDB."
   ]
  },
  {
   "cell_type": "markdown",
   "metadata": {},
   "source": [
    "## Read operation using find ( ) in MongoDB"
   ]
  },
  {
   "cell_type": "markdown",
   "metadata": {},
   "source": [
    "Lets now check our collection using the find_one( ) in MongoDB. This is similar to the SELECT statement in SQL for relational databases.\n",
    "\n",
    "Lets lookup for a collection with 'age' = 39 as follows"
   ]
  },
  {
   "cell_type": "code",
   "execution_count": 9,
   "metadata": {},
   "outputs": [
    {
     "data": {
      "text/plain": [
       "{'_id': ObjectId('598b8012777a0f59a27f59c4'),\n",
       " 'age': 39,\n",
       " 'capital-gain': ' 2174',\n",
       " 'capital-loss': ' 0',\n",
       " 'education': ' Bachelors',\n",
       " 'education-num': ' 13',\n",
       " 'fnlwgt': ' 77516',\n",
       " 'hours-per-week': ' 40',\n",
       " 'label': ' <=50K',\n",
       " 'marital-status': ' Never-married',\n",
       " 'native-country': ' United-States',\n",
       " 'occupation': ' Adm-clerical',\n",
       " 'race': ' White',\n",
       " 'relationship': ' Not-in-family',\n",
       " 'sex': ' Male',\n",
       " 'workclass': ' State-gov'}"
      ]
     },
     "execution_count": 9,
     "metadata": {},
     "output_type": "execute_result"
    }
   ],
   "source": [
    "age39 = collection.find_one({'age':{'$eq' : 39}}) #alternatively, {'age': 39} can be used\n",
    "age39"
   ]
  },
  {
   "cell_type": "markdown",
   "metadata": {},
   "source": [
    "Also,\"$gt\" can be used to find collections where 'age' > 35, which is to be put in an embedded list."
   ]
  },
  {
   "cell_type": "code",
   "execution_count": 10,
   "metadata": {},
   "outputs": [
    {
     "data": {
      "text/plain": [
       "17636"
      ]
     },
     "execution_count": 10,
     "metadata": {},
     "output_type": "execute_result"
    }
   ],
   "source": [
    "ageover_35 = collection.find({'age':{\"$gt\" : 35}})\n",
    "ageover_35.count()"
   ]
  },
  {
   "cell_type": "code",
   "execution_count": 11,
   "metadata": {},
   "outputs": [
    {
     "data": {
      "text/plain": [
       "pymongo.cursor.Cursor"
      ]
     },
     "execution_count": 11,
     "metadata": {},
     "output_type": "execute_result"
    }
   ],
   "source": [
    "type(ageover_35)"
   ]
  },
  {
   "cell_type": "markdown",
   "metadata": {},
   "source": [
    "The database has 17,636, about half of instances where 'age' > 35. Observe that the 'ageover_35 is a cursor, which fucntions as a pointer to the current instance. To get the next instance,"
   ]
  },
  {
   "cell_type": "code",
   "execution_count": 12,
   "metadata": {},
   "outputs": [
    {
     "data": {
      "text/plain": [
       "{'_id': ObjectId('598b8012777a0f59a27f59c4'),\n",
       " 'age': 39,\n",
       " 'capital-gain': ' 2174',\n",
       " 'capital-loss': ' 0',\n",
       " 'education': ' Bachelors',\n",
       " 'education-num': ' 13',\n",
       " 'fnlwgt': ' 77516',\n",
       " 'hours-per-week': ' 40',\n",
       " 'label': ' <=50K',\n",
       " 'marital-status': ' Never-married',\n",
       " 'native-country': ' United-States',\n",
       " 'occupation': ' Adm-clerical',\n",
       " 'race': ' White',\n",
       " 'relationship': ' Not-in-family',\n",
       " 'sex': ' Male',\n",
       " 'workclass': ' State-gov'}"
      ]
     },
     "execution_count": 12,
     "metadata": {},
     "output_type": "execute_result"
    }
   ],
   "source": [
    "ageover_35.next()"
   ]
  },
  {
   "cell_type": "markdown",
   "metadata": {},
   "source": [
    "## Update operation"
   ]
  },
  {
   "cell_type": "markdown",
   "metadata": {},
   "source": [
    "Update operation is done using the update_one( ) and update_many( ). The first field accepts the criterion for update and values are updated using the '$set': argument."
   ]
  },
  {
   "cell_type": "code",
   "execution_count": 13,
   "metadata": {},
   "outputs": [
    {
     "data": {
      "text/plain": [
       "<pymongo.results.UpdateResult at 0x117987988>"
      ]
     },
     "execution_count": 13,
     "metadata": {},
     "output_type": "execute_result"
    }
   ],
   "source": [
    "collection.update_one(\n",
    "        {\"age\": 38},\n",
    "        {\n",
    "        \"$set\": {\n",
    "            \"capital-gain\":999,\n",
    "            \"capital-loss\":999,\n",
    "                }\n",
    "        })"
   ]
  },
  {
   "cell_type": "code",
   "execution_count": 14,
   "metadata": {},
   "outputs": [
    {
     "data": {
      "text/plain": [
       "{'_id': ObjectId('598b8012777a0f59a27f59c6'),\n",
       " 'age': 38,\n",
       " 'capital-gain': 999,\n",
       " 'capital-loss': 999,\n",
       " 'education': ' HS-grad',\n",
       " 'education-num': ' 9',\n",
       " 'fnlwgt': ' 215646',\n",
       " 'hours-per-week': ' 40',\n",
       " 'label': ' <=50K',\n",
       " 'marital-status': ' Divorced',\n",
       " 'native-country': ' United-States',\n",
       " 'occupation': ' Handlers-cleaners',\n",
       " 'race': ' White',\n",
       " 'relationship': ' Not-in-family',\n",
       " 'sex': ' Male',\n",
       " 'workclass': ' Private'}"
      ]
     },
     "execution_count": 14,
     "metadata": {},
     "output_type": "execute_result"
    }
   ],
   "source": [
    "updated = collection.find_one({'age':{'$eq' : 38}})\n",
    "updated"
   ]
  },
  {
   "cell_type": "markdown",
   "metadata": {},
   "source": [
    "### Indexing in MongoDB"
   ]
  },
  {
   "cell_type": "markdown",
   "metadata": {},
   "source": [
    "Lets first find, how long it takes to query something using the find ( ) as above without an index, so create a variable called start for keeping track of time, and call the time function in the time package in python"
   ]
  },
  {
   "cell_type": "code",
   "execution_count": 15,
   "metadata": {},
   "outputs": [
    {
     "name": "stdout",
     "output_type": "stream",
     "text": [
      "9.393692016601562e-05\n"
     ]
    }
   ],
   "source": [
    "import time\n",
    "start = time.time()\n",
    "ageover50 = collection.find({'age':{'$gt':50}})\n",
    "end = time.time()\n",
    "print(end-start)"
   ]
  },
  {
   "cell_type": "markdown",
   "metadata": {},
   "source": [
    "Lets now create an index using  profiles.create_index( )"
   ]
  },
  {
   "cell_type": "code",
   "execution_count": 16,
   "metadata": {},
   "outputs": [],
   "source": [
    "index_result = db.profiles.create_index([('age',pymongo.ASCENDING)],unique = False)"
   ]
  },
  {
   "cell_type": "code",
   "execution_count": 17,
   "metadata": {},
   "outputs": [
    {
     "name": "stdout",
     "output_type": "stream",
     "text": [
      "0.0001552104949951172\n"
     ]
    }
   ],
   "source": [
    "import time\n",
    "start = time.time()\n",
    "ageover45 = collection.find({'age':{'$gt':45}})\n",
    "end = time.time()\n",
    "print(end-start)"
   ]
  },
  {
   "cell_type": "markdown",
   "metadata": {},
   "source": [
    "The reduction of time even by such a small amount is highly significant. This is why Indexing is important."
   ]
  },
  {
   "cell_type": "markdown",
   "metadata": {},
   "source": [
    "## Read data from MongoDB into dataframes"
   ]
  },
  {
   "cell_type": "markdown",
   "metadata": {},
   "source": [
    "We convert the cursor ,collection.find( ), into a list and then into a Pandas dataframe using .DataFrame( )"
   ]
  },
  {
   "cell_type": "code",
   "execution_count": 18,
   "metadata": {
    "collapsed": true
   },
   "outputs": [],
   "source": [
    "income_df = pd.DataFrame(list(collection.find()))"
   ]
  },
  {
   "cell_type": "code",
   "execution_count": 19,
   "metadata": {},
   "outputs": [
    {
     "data": {
      "text/html": [
       "<div>\n",
       "<style>\n",
       "    .dataframe thead tr:only-child th {\n",
       "        text-align: right;\n",
       "    }\n",
       "\n",
       "    .dataframe thead th {\n",
       "        text-align: left;\n",
       "    }\n",
       "\n",
       "    .dataframe tbody tr th {\n",
       "        vertical-align: top;\n",
       "    }\n",
       "</style>\n",
       "<table border=\"1\" class=\"dataframe\">\n",
       "  <thead>\n",
       "    <tr style=\"text-align: right;\">\n",
       "      <th></th>\n",
       "      <th>_id</th>\n",
       "      <th>age</th>\n",
       "      <th>capital-gain</th>\n",
       "      <th>capital-loss</th>\n",
       "      <th>education</th>\n",
       "      <th>education-num</th>\n",
       "      <th>fnlwgt</th>\n",
       "      <th>hours-per-week</th>\n",
       "      <th>label</th>\n",
       "      <th>marital-status</th>\n",
       "      <th>native-country</th>\n",
       "      <th>occupation</th>\n",
       "      <th>race</th>\n",
       "      <th>relationship</th>\n",
       "      <th>sex</th>\n",
       "      <th>workclass</th>\n",
       "    </tr>\n",
       "  </thead>\n",
       "  <tbody>\n",
       "    <tr>\n",
       "      <th>0</th>\n",
       "      <td>598b8012777a0f59a27f59c4</td>\n",
       "      <td>39</td>\n",
       "      <td>2174</td>\n",
       "      <td>0</td>\n",
       "      <td>Bachelors</td>\n",
       "      <td>13</td>\n",
       "      <td>77516</td>\n",
       "      <td>40</td>\n",
       "      <td>&lt;=50K</td>\n",
       "      <td>Never-married</td>\n",
       "      <td>United-States</td>\n",
       "      <td>Adm-clerical</td>\n",
       "      <td>White</td>\n",
       "      <td>Not-in-family</td>\n",
       "      <td>Male</td>\n",
       "      <td>State-gov</td>\n",
       "    </tr>\n",
       "    <tr>\n",
       "      <th>1</th>\n",
       "      <td>598b8012777a0f59a27f59c5</td>\n",
       "      <td>50</td>\n",
       "      <td>0</td>\n",
       "      <td>0</td>\n",
       "      <td>Bachelors</td>\n",
       "      <td>13</td>\n",
       "      <td>83311</td>\n",
       "      <td>13</td>\n",
       "      <td>&lt;=50K</td>\n",
       "      <td>Married-civ-spouse</td>\n",
       "      <td>United-States</td>\n",
       "      <td>Exec-managerial</td>\n",
       "      <td>White</td>\n",
       "      <td>Husband</td>\n",
       "      <td>Male</td>\n",
       "      <td>Self-emp-not-inc</td>\n",
       "    </tr>\n",
       "    <tr>\n",
       "      <th>2</th>\n",
       "      <td>598b8012777a0f59a27f59c6</td>\n",
       "      <td>38</td>\n",
       "      <td>999</td>\n",
       "      <td>999</td>\n",
       "      <td>HS-grad</td>\n",
       "      <td>9</td>\n",
       "      <td>215646</td>\n",
       "      <td>40</td>\n",
       "      <td>&lt;=50K</td>\n",
       "      <td>Divorced</td>\n",
       "      <td>United-States</td>\n",
       "      <td>Handlers-cleaners</td>\n",
       "      <td>White</td>\n",
       "      <td>Not-in-family</td>\n",
       "      <td>Male</td>\n",
       "      <td>Private</td>\n",
       "    </tr>\n",
       "    <tr>\n",
       "      <th>3</th>\n",
       "      <td>598b8012777a0f59a27f59c7</td>\n",
       "      <td>53</td>\n",
       "      <td>0</td>\n",
       "      <td>0</td>\n",
       "      <td>11th</td>\n",
       "      <td>7</td>\n",
       "      <td>234721</td>\n",
       "      <td>40</td>\n",
       "      <td>&lt;=50K</td>\n",
       "      <td>Married-civ-spouse</td>\n",
       "      <td>United-States</td>\n",
       "      <td>Handlers-cleaners</td>\n",
       "      <td>Black</td>\n",
       "      <td>Husband</td>\n",
       "      <td>Male</td>\n",
       "      <td>Private</td>\n",
       "    </tr>\n",
       "    <tr>\n",
       "      <th>4</th>\n",
       "      <td>598b8012777a0f59a27f59c8</td>\n",
       "      <td>28</td>\n",
       "      <td>0</td>\n",
       "      <td>0</td>\n",
       "      <td>Bachelors</td>\n",
       "      <td>13</td>\n",
       "      <td>338409</td>\n",
       "      <td>40</td>\n",
       "      <td>&lt;=50K</td>\n",
       "      <td>Married-civ-spouse</td>\n",
       "      <td>Cuba</td>\n",
       "      <td>Prof-specialty</td>\n",
       "      <td>Black</td>\n",
       "      <td>Wife</td>\n",
       "      <td>Female</td>\n",
       "      <td>Private</td>\n",
       "    </tr>\n",
       "  </tbody>\n",
       "</table>\n",
       "</div>"
      ],
      "text/plain": [
       "                        _id  age capital-gain capital-loss   education  \\\n",
       "0  598b8012777a0f59a27f59c4   39         2174            0   Bachelors   \n",
       "1  598b8012777a0f59a27f59c5   50            0            0   Bachelors   \n",
       "2  598b8012777a0f59a27f59c6   38          999          999     HS-grad   \n",
       "3  598b8012777a0f59a27f59c7   53            0            0        11th   \n",
       "4  598b8012777a0f59a27f59c8   28            0            0   Bachelors   \n",
       "\n",
       "  education-num   fnlwgt hours-per-week   label       marital-status  \\\n",
       "0            13    77516             40   <=50K        Never-married   \n",
       "1            13    83311             13   <=50K   Married-civ-spouse   \n",
       "2             9   215646             40   <=50K             Divorced   \n",
       "3             7   234721             40   <=50K   Married-civ-spouse   \n",
       "4            13   338409             40   <=50K   Married-civ-spouse   \n",
       "\n",
       "   native-country          occupation    race    relationship      sex  \\\n",
       "0   United-States        Adm-clerical   White   Not-in-family     Male   \n",
       "1   United-States     Exec-managerial   White         Husband     Male   \n",
       "2   United-States   Handlers-cleaners   White   Not-in-family     Male   \n",
       "3   United-States   Handlers-cleaners   Black         Husband     Male   \n",
       "4            Cuba      Prof-specialty   Black            Wife   Female   \n",
       "\n",
       "           workclass  \n",
       "0          State-gov  \n",
       "1   Self-emp-not-inc  \n",
       "2            Private  \n",
       "3            Private  \n",
       "4            Private  "
      ]
     },
     "execution_count": 19,
     "metadata": {},
     "output_type": "execute_result"
    }
   ],
   "source": [
    "income_df.head()"
   ]
  },
  {
   "cell_type": "code",
   "execution_count": 20,
   "metadata": {},
   "outputs": [
    {
     "data": {
      "text/plain": [
       "count    32561.000000\n",
       "mean        38.581647\n",
       "std         13.640433\n",
       "min         17.000000\n",
       "25%         28.000000\n",
       "50%         37.000000\n",
       "75%         48.000000\n",
       "max         90.000000\n",
       "Name: age, dtype: float64"
      ]
     },
     "execution_count": 20,
     "metadata": {},
     "output_type": "execute_result"
    }
   ],
   "source": [
    "income_df['age'].describe()"
   ]
  },
  {
   "cell_type": "markdown",
   "metadata": {},
   "source": [
    "The dataframe can now be used to perform all the Data Science and Machine Learning tasks"
   ]
  },
  {
   "cell_type": "markdown",
   "metadata": {},
   "source": [
    "## delete ( ) in MongoDB"
   ]
  },
  {
   "cell_type": "markdown",
   "metadata": {},
   "source": [
    "The above created collection can be deleted using delete_many( ) or selectively using delete_one( )"
   ]
  },
  {
   "cell_type": "code",
   "execution_count": 21,
   "metadata": {},
   "outputs": [
    {
     "data": {
      "text/plain": [
       "<pymongo.results.DeleteResult at 0x1179c0e08>"
      ]
     },
     "execution_count": 21,
     "metadata": {},
     "output_type": "execute_result"
    }
   ],
   "source": [
    "collection.delete_many({})"
   ]
  },
  {
   "cell_type": "markdown",
   "metadata": {},
   "source": [
    "# Concluding Remarks\n",
    "\n",
    "1. The basic CRUD operations are performed for MongoDB using the pymongo driver in Python."
   ]
  }
 ],
 "metadata": {
  "kernelspec": {
   "display_name": "Python 3",
   "language": "python",
   "name": "python3"
  },
  "language_info": {
   "codemirror_mode": {
    "name": "ipython",
    "version": 3
   },
   "file_extension": ".py",
   "mimetype": "text/x-python",
   "name": "python",
   "nbconvert_exporter": "python",
   "pygments_lexer": "ipython3",
   "version": "3.6.1"
  }
 },
 "nbformat": 4,
 "nbformat_minor": 2
}
