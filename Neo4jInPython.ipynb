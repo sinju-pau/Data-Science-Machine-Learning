{
 "cells": [
  {
   "cell_type": "markdown",
   "metadata": {},
   "source": [
    "# Working with Neo4j, The Graph based Database in Python\n",
    "\n",
    "Neo4j is the world's leading open source Graph Database which is developed using Java technology. It is highly scalable and schema free (NoSQL). Graph database is a database used to model the data in the form of graph. In here, the nodes of a graph depict the entities while the relationships depict the association of these nodes. The data model for graph databases is simpler compared to other databases and, they can be used with OLTP systems. They provide features like transactional integrity and operational availability.\n",
    "\n",
    "This notebook illustrates how to work with Neo4j from Python, using the py2neo driver installed. The files used contains information about names of some cities in US,their populations and flight distances between them. These cities are the entities/nodes we create and the flight distances are the edges/relationships we link."
   ]
  },
  {
   "cell_type": "markdown",
   "metadata": {},
   "source": [
    "Import modules graph, node, realtionship and authenticate from py2neo"
   ]
  },
  {
   "cell_type": "code",
   "execution_count": 1,
   "metadata": {
    "collapsed": true
   },
   "outputs": [],
   "source": [
    "from py2neo import Graph, Node, Relationship, authenticate"
   ]
  },
  {
   "cell_type": "markdown",
   "metadata": {},
   "source": [
    "Next is the Authentication process, with host, username and password"
   ]
  },
  {
   "cell_type": "code",
   "execution_count": 2,
   "metadata": {
    "collapsed": true
   },
   "outputs": [],
   "source": [
    "authenticate(\"localhost\", \"neo4j\", \"password\")"
   ]
  },
  {
   "cell_type": "markdown",
   "metadata": {},
   "source": [
    "## Create Graph and nodes"
   ]
  },
  {
   "cell_type": "markdown",
   "metadata": {},
   "source": [
    "Now lets create a graph using graph command"
   ]
  },
  {
   "cell_type": "code",
   "execution_count": 3,
   "metadata": {},
   "outputs": [
    {
     "data": {
      "text/plain": [
       "py2neo.database.Graph"
      ]
     },
     "execution_count": 3,
     "metadata": {},
     "output_type": "execute_result"
    }
   ],
   "source": [
    "g = Graph(host='localhost')\n",
    "type(g)"
   ]
  },
  {
   "cell_type": "markdown",
   "metadata": {},
   "source": [
    "Now lets type in a terminal command ls to list the .txt files in the directory"
   ]
  },
  {
   "cell_type": "code",
   "execution_count": 5,
   "metadata": {},
   "outputs": [
    {
     "name": "stdout",
     "output_type": "stream",
     "text": [
      "\u001b[31medge_distance.txt\u001b[m\u001b[m \u001b[31mnode_city.txt\u001b[m\u001b[m\r\n"
     ]
    }
   ],
   "source": [
    "!ls *.txt"
   ]
  },
  {
   "cell_type": "markdown",
   "metadata": {},
   "source": [
    "Lets look at the first sevral lines of node_city.txt file"
   ]
  },
  {
   "cell_type": "code",
   "execution_count": 6,
   "metadata": {},
   "outputs": [
    {
     "name": "stdout",
     "output_type": "stream",
     "text": [
      "New_York, 8491079\r\n",
      "Los_Angeles, 3928864\r\n",
      "Chicago, 2722389\r\n",
      "Houston, 2239558\r\n",
      "Philadelphia, 1560297\r\n",
      "Phoenix, 1537058\r\n",
      "San_Antonio, 1436697\r\n",
      "San_Diego, 1381069\r\n",
      "Dallas, 1281047\r\n",
      "San_Jose, 1015785\r\n"
     ]
    }
   ],
   "source": [
    "!head node_city.txt"
   ]
  },
  {
   "cell_type": "markdown",
   "metadata": {},
   "source": [
    "Now we create a transactions and within the transaction, we load the nodes from the above file into the graph just created."
   ]
  },
  {
   "cell_type": "code",
   "execution_count": 8,
   "metadata": {
    "collapsed": true
   },
   "outputs": [],
   "source": [
    "tx = g.begin()\n",
    "with open('node_city.txt') as f_in:\n",
    "    for line in f_in:\n",
    "        city_list = line.rstrip().split(',')\n",
    "        city = Node(\"City\",name=city_list[0], population=int(city_list[1]))\n",
    "        tx.create(city)\n",
    "tx.commit()"
   ]
  },
  {
   "cell_type": "markdown",
   "metadata": {},
   "source": [
    "In above, .begin( ) begins the transactions and .commit( ) saves it. In between, source file is open and data is read line-by-line, after stripping off whitespaces and separated by commas and converted into a list, city_list.\n",
    "\n",
    "Next a node, named \"City\" is created with the 'Node' command in py2neo module. The attributes are name and population using first and second columns from the list just created. This step is completed with .create( ), the node is said to be of type, city."
   ]
  },
  {
   "cell_type": "markdown",
   "metadata": {},
   "source": [
    "## Read data from graph"
   ]
  },
  {
   "cell_type": "markdown",
   "metadata": {},
   "source": [
    "Data is read using the MATCH RETURN statement as follows. Match all nodes with the type 'City'"
   ]
  },
  {
   "cell_type": "code",
   "execution_count": 10,
   "metadata": {},
   "outputs": [
    {
     "data": {
      "text/plain": [
       "[{'c.name': 'New_York', 'c.population': ' 8491079'},\n",
       " {'c.name': 'Los_Angeles', 'c.population': ' 3928864'},\n",
       " {'c.name': 'Chicago', 'c.population': ' 2722389'},\n",
       " {'c.name': 'Houston', 'c.population': ' 2239558'},\n",
       " {'c.name': 'Philadelphia', 'c.population': ' 1560297'},\n",
       " {'c.name': 'Phoenix', 'c.population': ' 1537058'},\n",
       " {'c.name': 'San_Antonio', 'c.population': ' 1436697'},\n",
       " {'c.name': 'San_Diego', 'c.population': ' 1381069'},\n",
       " {'c.name': 'Dallas', 'c.population': ' 1281047'},\n",
       " {'c.name': 'San_Jose', 'c.population': ' 1015785'}]"
      ]
     },
     "execution_count": 10,
     "metadata": {},
     "output_type": "execute_result"
    }
   ],
   "source": [
    "g.data(\"MATCH (c:City) RETURN c.name, c.population LIMIT 10\")"
   ]
  },
  {
   "cell_type": "markdown",
   "metadata": {},
   "source": [
    "If we want to work with specific elements of a list, for example, specific cities. One way to do that is to work with something called node_selector by referencing the graph as g and use .select( ) command to select nodes which are of type City."
   ]
  },
  {
   "cell_type": "code",
   "execution_count": 12,
   "metadata": {},
   "outputs": [
    {
     "data": {
      "text/plain": [
       "py2neo.database.selection.NodeSelection"
      ]
     },
     "execution_count": 12,
     "metadata": {},
     "output_type": "execute_result"
    }
   ],
   "source": [
    "result_set = g.node_selector.select(\"City\")\n",
    "type(result_set)"
   ]
  },
  {
   "cell_type": "markdown",
   "metadata": {},
   "source": [
    "Observe that the result is a NodeSelection. to look at the first element,"
   ]
  },
  {
   "cell_type": "code",
   "execution_count": 13,
   "metadata": {},
   "outputs": [
    {
     "data": {
      "text/plain": [
       "(new_york:City {name:\"New_York\",population:\" 8491079\"})"
      ]
     },
     "execution_count": 13,
     "metadata": {},
     "output_type": "execute_result"
    }
   ],
   "source": [
    "result_set.first()"
   ]
  },
  {
   "cell_type": "markdown",
   "metadata": {},
   "source": [
    "Let's say we're interested in finding the node for Los Angeles, then use the 'where' clause"
   ]
  },
  {
   "cell_type": "code",
   "execution_count": 19,
   "metadata": {},
   "outputs": [
    {
     "data": {
      "text/plain": [
       "(los_angeles:City {name:\"Los_Angeles\",population:\" 3928864\"})"
      ]
     },
     "execution_count": 19,
     "metadata": {},
     "output_type": "execute_result"
    }
   ],
   "source": [
    "LA = result_set.where(name=\"Los_Angeles\")\n",
    "LA.first()"
   ]
  },
  {
   "cell_type": "markdown",
   "metadata": {},
   "source": [
    "Also for loops can also be used to iterate over the entire entries."
   ]
  },
  {
   "cell_type": "code",
   "execution_count": 21,
   "metadata": {},
   "outputs": [
    {
     "name": "stdout",
     "output_type": "stream",
     "text": [
      "(new_york:City {name:\"New_York\",population:\" 8491079\"})\n",
      "(los_angeles:City {name:\"Los_Angeles\",population:\" 3928864\"})\n",
      "(chicago:City {name:\"Chicago\",population:\" 2722389\"})\n",
      "(houston:City {name:\"Houston\",population:\" 2239558\"})\n",
      "(philadelphia:City {name:\"Philadelphia\",population:\" 1560297\"})\n",
      "(phoenix:City {name:\"Phoenix\",population:\" 1537058\"})\n",
      "(san_antonio:City {name:\"San_Antonio\",population:\" 1436697\"})\n",
      "(san_diego:City {name:\"San_Diego\",population:\" 1381069\"})\n",
      "(dallas:City {name:\"Dallas\",population:\" 1281047\"})\n",
      "(san_jose:City {name:\"San_Jose\",population:\" 1015785\"})\n",
      "(austin:City {name:\"Austin\",population:\" 912791\"})\n",
      "(jacksonville:City {name:\"Jacksonville\",population:\" 853382\"})\n",
      "(san_francisco:City {name:\"San_Francisco\",population:\" 852469\"})\n",
      "(indianapolis:City {name:\"Indianapolis\",population:\" 848788\"})\n",
      "(columbus:City {name:\"Columbus\",population:\" 835957\"})\n",
      "(e3cca0c:City {name:\"Fort_Worth\",population:\" 812238\"})\n",
      "(b338c43:City {name:\"Charlotte\",population:\" 809958\"})\n",
      "(f7700f0:City {name:\"Detroit\",population:\" 680250\"})\n",
      "(ceb4920:City {name:\"Seattle\",population:\" 66342\"})\n",
      "(d5d7fa8:City {name:\"Denver\",population:\" 663862\"})\n",
      "(new_york:City {name:\"New_York\",population:8491079})\n",
      "(los_angeles:City {name:\"Los_Angeles\",population:3928864})\n",
      "(chicago:City {name:\"Chicago\",population:2722389})\n",
      "(houston:City {name:\"Houston\",population:2239558})\n",
      "(philadelphia:City {name:\"Philadelphia\",population:1560297})\n",
      "(phoenix:City {name:\"Phoenix\",population:1537058})\n",
      "(san_antonio:City {name:\"San_Antonio\",population:1436697})\n",
      "(san_diego:City {name:\"San_Diego\",population:1381069})\n",
      "(dallas:City {name:\"Dallas\",population:1281047})\n",
      "(san_jose:City {name:\"San_Jose\",population:1015785})\n",
      "(austin:City {name:\"Austin\",population:912791})\n",
      "(jacksonville:City {name:\"Jacksonville\",population:853382})\n",
      "(san_francisco:City {name:\"San_Francisco\",population:852469})\n",
      "(indianapolis:City {name:\"Indianapolis\",population:848788})\n",
      "(columbus:City {name:\"Columbus\",population:835957})\n",
      "(fort_worth:City {name:\"Fort_Worth\",population:812238})\n",
      "(charlotte:City {name:\"Charlotte\",population:809958})\n",
      "(detroit:City {name:\"Detroit\",population:680250})\n",
      "(seattle:City {name:\"Seattle\",population:66342})\n",
      "(denver:City {name:\"Denver\",population:663862})\n"
     ]
    }
   ],
   "source": [
    "for r in result_set:\n",
    "    print(r)"
   ]
  },
  {
   "cell_type": "markdown",
   "metadata": {},
   "source": [
    "## Creating edges/relations between nodes"
   ]
  },
  {
   "cell_type": "markdown",
   "metadata": {},
   "source": [
    "Now we create edges/relations using the edge_distance.txt file, containing information about the flight distances between cities."
   ]
  },
  {
   "cell_type": "code",
   "execution_count": 24,
   "metadata": {},
   "outputs": [
    {
     "name": "stdout",
     "output_type": "stream",
     "text": [
      "New_York,Los_Angeles, 2451\r\n",
      "New_York,Chicago, 733\r\n",
      "New_York,Philadelphia, 95\r\n",
      "New_York,Dallas, 1373\r\n",
      "New_York,San_Francisco, 2572\r\n",
      "Los_Angeles,San_Francisco, 382\r\n",
      "Los_Angeles,Chicago, 1756\r\n",
      "Los_Angeles,Austin, 1377\r\n",
      "Los_Angeles,San_Jose, 306\r\n",
      "Los_Angeles,Charlotte, 2125\r\n"
     ]
    }
   ],
   "source": [
    "!head edge_distance.txt"
   ]
  },
  {
   "cell_type": "markdown",
   "metadata": {},
   "source": [
    "Into the same graph, g, we now now add edges to nodes, reading data from the open file after formatting. Two nodes are created for the two cities and then edges are created between these two, using Relationships( ). The relationship has a property assigned as 'distance'"
   ]
  },
  {
   "cell_type": "code",
   "execution_count": 23,
   "metadata": {
    "collapsed": true
   },
   "outputs": [],
   "source": [
    "tx = g.begin()\n",
    "with open('edge_distance.txt') as f_in:\n",
    "    for line in f_in:\n",
    "        edge_list = line.rstrip().split(',')\n",
    "        city1_name = edge_list[0]\n",
    "        city2_name = edge_list[1]\n",
    "        city1_node = result_set.where(name=city1_name)\n",
    "        city2_node = result_set.where(name=city2_name)\n",
    "        city_pair = Relationship(city1_node, \"FLIGHT_BETWEEN\", city2_node)\n",
    "        city_pair[\"distance\"] = edge_list[2]\n",
    "        tx.create(city_pair)\n",
    "tx.commit()"
   ]
  },
  {
   "cell_type": "markdown",
   "metadata": {},
   "source": [
    "The above creates a edge/relationship of type city_pair"
   ]
  },
  {
   "cell_type": "markdown",
   "metadata": {},
   "source": [
    "## Mapping into pandas dataframe"
   ]
  },
  {
   "cell_type": "markdown",
   "metadata": {},
   "source": [
    "We now map the graph structure into a pandas dataframe."
   ]
  },
  {
   "cell_type": "code",
   "execution_count": 25,
   "metadata": {
    "collapsed": true
   },
   "outputs": [],
   "source": [
    "import pandas as pd"
   ]
  },
  {
   "cell_type": "markdown",
   "metadata": {},
   "source": [
    "Now we create a list flights_list and iterate over cities to get a set of cities in the graph that match cases where the relationship type is equal to FLIGHT_BETWEEN. city1_name and city2_name contains the first and second properties of nodes, distance contains the distance property. These are then appended to the flights_list."
   ]
  },
  {
   "cell_type": "code",
   "execution_count": 26,
   "metadata": {
    "collapsed": true
   },
   "outputs": [],
   "source": [
    "flight_list = list()\n",
    "for cities in g.match(rel_type=\"FLIGHT_BETWEEN\"):\n",
    "    city1_name = cities.nodes()[0]['name']\n",
    "    city2_name = cities.nodes()[1]['name']\n",
    "    distance = cities['distance']\n",
    "    flight_list.append([city1_name, city2_name, distance])"
   ]
  },
  {
   "cell_type": "code",
   "execution_count": 27,
   "metadata": {},
   "outputs": [
    {
     "data": {
      "text/plain": [
       "['New_York', 'Los_Angeles', ' 2451']"
      ]
     },
     "execution_count": 27,
     "metadata": {},
     "output_type": "execute_result"
    }
   ],
   "source": [
    "flight_list[0]"
   ]
  },
  {
   "cell_type": "markdown",
   "metadata": {},
   "source": [
    "The list is thus created from Neo4j database that we built. Now, this can be easily conveted into a pandas dataframe as follows,"
   ]
  },
  {
   "cell_type": "code",
   "execution_count": 28,
   "metadata": {
    "collapsed": true
   },
   "outputs": [],
   "source": [
    "flight_df = pd.DataFrame(flight_list)"
   ]
  },
  {
   "cell_type": "code",
   "execution_count": 30,
   "metadata": {},
   "outputs": [
    {
     "data": {
      "text/html": [
       "<div>\n",
       "<style>\n",
       "    .dataframe thead tr:only-child th {\n",
       "        text-align: right;\n",
       "    }\n",
       "\n",
       "    .dataframe thead th {\n",
       "        text-align: left;\n",
       "    }\n",
       "\n",
       "    .dataframe tbody tr th {\n",
       "        vertical-align: top;\n",
       "    }\n",
       "</style>\n",
       "<table border=\"1\" class=\"dataframe\">\n",
       "  <thead>\n",
       "    <tr style=\"text-align: right;\">\n",
       "      <th></th>\n",
       "      <th>0</th>\n",
       "      <th>1</th>\n",
       "      <th>2</th>\n",
       "    </tr>\n",
       "  </thead>\n",
       "  <tbody>\n",
       "    <tr>\n",
       "      <th>0</th>\n",
       "      <td>New_York</td>\n",
       "      <td>Los_Angeles</td>\n",
       "      <td>2451</td>\n",
       "    </tr>\n",
       "    <tr>\n",
       "      <th>1</th>\n",
       "      <td>New_York</td>\n",
       "      <td>Chicago</td>\n",
       "      <td>733</td>\n",
       "    </tr>\n",
       "    <tr>\n",
       "      <th>2</th>\n",
       "      <td>New_York</td>\n",
       "      <td>Philadelphia</td>\n",
       "      <td>95</td>\n",
       "    </tr>\n",
       "    <tr>\n",
       "      <th>3</th>\n",
       "      <td>New_York</td>\n",
       "      <td>Dallas</td>\n",
       "      <td>1373</td>\n",
       "    </tr>\n",
       "    <tr>\n",
       "      <th>4</th>\n",
       "      <td>New_York</td>\n",
       "      <td>San_Francisco</td>\n",
       "      <td>2572</td>\n",
       "    </tr>\n",
       "    <tr>\n",
       "      <th>5</th>\n",
       "      <td>Los_Angeles</td>\n",
       "      <td>San_Francisco</td>\n",
       "      <td>382</td>\n",
       "    </tr>\n",
       "    <tr>\n",
       "      <th>6</th>\n",
       "      <td>Los_Angeles</td>\n",
       "      <td>Chicago</td>\n",
       "      <td>1756</td>\n",
       "    </tr>\n",
       "    <tr>\n",
       "      <th>7</th>\n",
       "      <td>Los_Angeles</td>\n",
       "      <td>Austin</td>\n",
       "      <td>1377</td>\n",
       "    </tr>\n",
       "    <tr>\n",
       "      <th>8</th>\n",
       "      <td>Los_Angeles</td>\n",
       "      <td>San_Jose</td>\n",
       "      <td>306</td>\n",
       "    </tr>\n",
       "    <tr>\n",
       "      <th>9</th>\n",
       "      <td>Los_Angeles</td>\n",
       "      <td>Charlotte</td>\n",
       "      <td>2125</td>\n",
       "    </tr>\n",
       "  </tbody>\n",
       "</table>\n",
       "</div>"
      ],
      "text/plain": [
       "             0              1      2\n",
       "0     New_York    Los_Angeles   2451\n",
       "1     New_York        Chicago    733\n",
       "2     New_York   Philadelphia     95\n",
       "3     New_York         Dallas   1373\n",
       "4     New_York  San_Francisco   2572\n",
       "5  Los_Angeles  San_Francisco    382\n",
       "6  Los_Angeles        Chicago   1756\n",
       "7  Los_Angeles         Austin   1377\n",
       "8  Los_Angeles       San_Jose    306\n",
       "9  Los_Angeles      Charlotte   2125"
      ]
     },
     "execution_count": 30,
     "metadata": {},
     "output_type": "execute_result"
    }
   ],
   "source": [
    "flight_df.head(10)"
   ]
  },
  {
   "cell_type": "markdown",
   "metadata": {},
   "source": [
    "## Concluding Remarks\n",
    "\n",
    "1. Graphs and Nodes are created in the Neo4j database. Data reading from the graphs is also done\n",
    "2. Edges are created between nodes in the graph and graph is also converted into pandas dataframe."
   ]
  }
 ],
 "metadata": {
  "kernelspec": {
   "display_name": "Python 3",
   "language": "python",
   "name": "python3"
  },
  "language_info": {
   "codemirror_mode": {
    "name": "ipython",
    "version": 3
   },
   "file_extension": ".py",
   "mimetype": "text/x-python",
   "name": "python",
   "nbconvert_exporter": "python",
   "pygments_lexer": "ipython3",
   "version": "3.6.1"
  }
 },
 "nbformat": 4,
 "nbformat_minor": 2
}
